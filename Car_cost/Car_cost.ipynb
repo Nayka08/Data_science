{
 "cells": [
  {
   "cell_type": "markdown",
   "metadata": {},
   "source": [
    "# Определение стоимости автомобилей"
   ]
  },
  {
   "cell_type": "markdown",
   "metadata": {
    "toc": true
   },
   "source": [
    "<h1>Содержание<span class=\"tocSkip\"></span></h1>\n",
    "<div class=\"toc\"><ul class=\"toc-item\"><li><span><a href=\"#Анализ-данных\" data-toc-modified-id=\"Анализ-данных-1\"><span class=\"toc-item-num\">1&nbsp;&nbsp;</span>Анализ данных</a></span><ul class=\"toc-item\"><li><span><a href=\"#Дата-скачивания-анкеты\" data-toc-modified-id=\"Дата-скачивания-анкеты-1.1\"><span class=\"toc-item-num\">1.1&nbsp;&nbsp;</span>Дата скачивания анкеты</a></span></li><li><span><a href=\"#Год-регистрации\" data-toc-modified-id=\"Год-регистрации-1.2\"><span class=\"toc-item-num\">1.2&nbsp;&nbsp;</span>Год регистрации</a></span></li><li><span><a href=\"#Исследуем-целевой-признак\" data-toc-modified-id=\"Исследуем-целевой-признак-1.3\"><span class=\"toc-item-num\">1.3&nbsp;&nbsp;</span>Исследуем целевой признак</a></span></li><li><span><a href=\"#Зависимость-цены-от-бренда\" data-toc-modified-id=\"Зависимость-цены-от-бренда-1.4\"><span class=\"toc-item-num\">1.4&nbsp;&nbsp;</span>Зависимость цены от бренда</a></span></li><li><span><a href=\"#Промежуточный-вывод\" data-toc-modified-id=\"Промежуточный-вывод-1.5\"><span class=\"toc-item-num\">1.5&nbsp;&nbsp;</span>Промежуточный вывод</a></span></li></ul></li><li><span><a href=\"#Предобработка-данных\" data-toc-modified-id=\"Предобработка-данных-2\"><span class=\"toc-item-num\">2&nbsp;&nbsp;</span>Предобработка данных</a></span><ul class=\"toc-item\"><li><span><a href=\"#Заполним-пропуски-и-проверим-наличие-дубликатов\" data-toc-modified-id=\"Заполним-пропуски-и-проверим-наличие-дубликатов-2.1\"><span class=\"toc-item-num\">2.1&nbsp;&nbsp;</span>Заполним пропуски и проверим наличие дубликатов</a></span></li><li><span><a href=\"#Заполним-нулевые-значения\" data-toc-modified-id=\"Заполним-нулевые-значения-2.2\"><span class=\"toc-item-num\">2.2&nbsp;&nbsp;</span>Заполним нулевые значения</a></span></li><li><span><a href=\"#Удалим-неинформативные-признаки\" data-toc-modified-id=\"Удалим-неинформативные-признаки-2.3\"><span class=\"toc-item-num\">2.3&nbsp;&nbsp;</span>Удалим неинформативные признаки</a></span></li><li><span><a href=\"#Разделение-данных\" data-toc-modified-id=\"Разделение-данных-2.4\"><span class=\"toc-item-num\">2.4&nbsp;&nbsp;</span>Разделение данных</a></span></li></ul></li><li><span><a href=\"#Обучение-моделей\" data-toc-modified-id=\"Обучение-моделей-3\"><span class=\"toc-item-num\">3&nbsp;&nbsp;</span>Обучение моделей</a></span><ul class=\"toc-item\"><li><span><a href=\"#Масштабирование-и-стандартизация\" data-toc-modified-id=\"Масштабирование-и-стандартизация-3.1\"><span class=\"toc-item-num\">3.1&nbsp;&nbsp;</span>Масштабирование и стандартизация</a></span></li><li><span><a href=\"#LightGBM\" data-toc-modified-id=\"LightGBM-3.2\"><span class=\"toc-item-num\">3.2&nbsp;&nbsp;</span><strong>LightGBM</strong></a></span></li><li><span><a href=\"#Catboost\" data-toc-modified-id=\"Catboost-3.3\"><span class=\"toc-item-num\">3.3&nbsp;&nbsp;</span><strong>Catboost</strong></a></span></li><li><span><a href=\"#Stochastic-Gradient-Descent\" data-toc-modified-id=\"Stochastic-Gradient-Descent-3.4\"><span class=\"toc-item-num\">3.4&nbsp;&nbsp;</span><strong>Stochastic Gradient Descent</strong></a></span></li></ul></li><li><span><a href=\"#Анализ-моделей\" data-toc-modified-id=\"Анализ-моделей-4\"><span class=\"toc-item-num\">4&nbsp;&nbsp;</span>Анализ моделей</a></span></li><li><span><a href=\"#Тестирование-лучшей-модели\" data-toc-modified-id=\"Тестирование-лучшей-модели-5\"><span class=\"toc-item-num\">5&nbsp;&nbsp;</span>Тестирование лучшей модели</a></span></li><li><span><a href=\"#Важность-признаков\" data-toc-modified-id=\"Важность-признаков-6\"><span class=\"toc-item-num\">6&nbsp;&nbsp;</span>Важность признаков</a></span></li><li><span><a href=\"#Вывод\" data-toc-modified-id=\"Вывод-7\"><span class=\"toc-item-num\">7&nbsp;&nbsp;</span>Вывод</a></span></li></ul></div>"
   ]
  },
  {
   "cell_type": "markdown",
   "metadata": {},
   "source": [
    "Сервис по продаже автомобилей с пробегом разрабатывает приложение для привлечения новых клиентов. В нём можно быстро узнать рыночную стоимость своего автомобиля. В нашем распоряжении исторические данные: технические характеристики, комплектации и цены автомобилей. Нужно построить модель для определения стоимости. \n",
    "\n",
    "Заказчику важны:\n",
    "\n",
    "- качество предсказания, метрика RMSE < 1800;\n",
    "- скорость предсказания;"
   ]
  },
  {
   "cell_type": "markdown",
   "metadata": {},
   "source": [
    "## Анализ данных"
   ]
  },
  {
   "cell_type": "markdown",
   "metadata": {},
   "source": [
    "Проведем первичный анализ данных"
   ]
  },
  {
   "cell_type": "code",
   "execution_count": 2,
   "metadata": {},
   "outputs": [],
   "source": [
    "import pandas as pd\n",
    "import numpy as np\n",
    "import lightgbm as lgb\n",
    "import matplotlib.pyplot as plt\n",
    "from sklearn.pipeline import Pipeline\n",
    "from catboost import CatBoostRegressor\n",
    "from sklearn.preprocessing import OneHotEncoder\n",
    "from sklearn.preprocessing import StandardScaler\n",
    "from sklearn.linear_model import SGDRegressor\n",
    "from sklearn.metrics import mean_squared_error\n",
    "from sklearn.metrics import make_scorer\n",
    "from sklearn.compose import make_column_transformer\n",
    "from sklearn.model_selection import (\n",
    "    GridSearchCV, \n",
    "    RandomizedSearchCV,\n",
    "    train_test_split)"
   ]
  },
  {
   "cell_type": "code",
   "execution_count": 3,
   "metadata": {},
   "outputs": [],
   "source": [
    "data = pd.read_csv(\"autos.csv\")"
   ]
  },
  {
   "cell_type": "code",
   "execution_count": 4,
   "metadata": {},
   "outputs": [
    {
     "name": "stdout",
     "output_type": "stream",
     "text": [
      "<class 'pandas.core.frame.DataFrame'>\n",
      "RangeIndex: 354369 entries, 0 to 354368\n",
      "Data columns (total 16 columns):\n",
      " #   Column             Non-Null Count   Dtype \n",
      "---  ------             --------------   ----- \n",
      " 0   DateCrawled        354369 non-null  object\n",
      " 1   Price              354369 non-null  int64 \n",
      " 2   VehicleType        316879 non-null  object\n",
      " 3   RegistrationYear   354369 non-null  int64 \n",
      " 4   Gearbox            334536 non-null  object\n",
      " 5   Power              354369 non-null  int64 \n",
      " 6   Model              334664 non-null  object\n",
      " 7   Kilometer          354369 non-null  int64 \n",
      " 8   RegistrationMonth  354369 non-null  int64 \n",
      " 9   FuelType           321474 non-null  object\n",
      " 10  Brand              354369 non-null  object\n",
      " 11  Repaired           283215 non-null  object\n",
      " 12  DateCreated        354369 non-null  object\n",
      " 13  NumberOfPictures   354369 non-null  int64 \n",
      " 14  PostalCode         354369 non-null  int64 \n",
      " 15  LastSeen           354369 non-null  object\n",
      "dtypes: int64(7), object(9)\n",
      "memory usage: 43.3+ MB\n"
     ]
    }
   ],
   "source": [
    "data.info()"
   ]
  },
  {
   "cell_type": "code",
   "execution_count": 5,
   "metadata": {},
   "outputs": [
    {
     "data": {
      "text/html": [
       "<div>\n",
       "<style scoped>\n",
       "    .dataframe tbody tr th:only-of-type {\n",
       "        vertical-align: middle;\n",
       "    }\n",
       "\n",
       "    .dataframe tbody tr th {\n",
       "        vertical-align: top;\n",
       "    }\n",
       "\n",
       "    .dataframe thead th {\n",
       "        text-align: right;\n",
       "    }\n",
       "</style>\n",
       "<table border=\"1\" class=\"dataframe\">\n",
       "  <thead>\n",
       "    <tr style=\"text-align: right;\">\n",
       "      <th></th>\n",
       "      <th>DateCrawled</th>\n",
       "      <th>Price</th>\n",
       "      <th>VehicleType</th>\n",
       "      <th>RegistrationYear</th>\n",
       "      <th>Gearbox</th>\n",
       "      <th>Power</th>\n",
       "      <th>Model</th>\n",
       "      <th>Kilometer</th>\n",
       "      <th>RegistrationMonth</th>\n",
       "      <th>FuelType</th>\n",
       "      <th>Brand</th>\n",
       "      <th>Repaired</th>\n",
       "      <th>DateCreated</th>\n",
       "      <th>NumberOfPictures</th>\n",
       "      <th>PostalCode</th>\n",
       "      <th>LastSeen</th>\n",
       "    </tr>\n",
       "  </thead>\n",
       "  <tbody>\n",
       "    <tr>\n",
       "      <th>0</th>\n",
       "      <td>2016-03-24 11:52:17</td>\n",
       "      <td>480</td>\n",
       "      <td>NaN</td>\n",
       "      <td>1993</td>\n",
       "      <td>manual</td>\n",
       "      <td>0</td>\n",
       "      <td>golf</td>\n",
       "      <td>150000</td>\n",
       "      <td>0</td>\n",
       "      <td>petrol</td>\n",
       "      <td>volkswagen</td>\n",
       "      <td>NaN</td>\n",
       "      <td>2016-03-24 00:00:00</td>\n",
       "      <td>0</td>\n",
       "      <td>70435</td>\n",
       "      <td>2016-04-07 03:16:57</td>\n",
       "    </tr>\n",
       "    <tr>\n",
       "      <th>1</th>\n",
       "      <td>2016-03-24 10:58:45</td>\n",
       "      <td>18300</td>\n",
       "      <td>coupe</td>\n",
       "      <td>2011</td>\n",
       "      <td>manual</td>\n",
       "      <td>190</td>\n",
       "      <td>NaN</td>\n",
       "      <td>125000</td>\n",
       "      <td>5</td>\n",
       "      <td>gasoline</td>\n",
       "      <td>audi</td>\n",
       "      <td>yes</td>\n",
       "      <td>2016-03-24 00:00:00</td>\n",
       "      <td>0</td>\n",
       "      <td>66954</td>\n",
       "      <td>2016-04-07 01:46:50</td>\n",
       "    </tr>\n",
       "    <tr>\n",
       "      <th>2</th>\n",
       "      <td>2016-03-14 12:52:21</td>\n",
       "      <td>9800</td>\n",
       "      <td>suv</td>\n",
       "      <td>2004</td>\n",
       "      <td>auto</td>\n",
       "      <td>163</td>\n",
       "      <td>grand</td>\n",
       "      <td>125000</td>\n",
       "      <td>8</td>\n",
       "      <td>gasoline</td>\n",
       "      <td>jeep</td>\n",
       "      <td>NaN</td>\n",
       "      <td>2016-03-14 00:00:00</td>\n",
       "      <td>0</td>\n",
       "      <td>90480</td>\n",
       "      <td>2016-04-05 12:47:46</td>\n",
       "    </tr>\n",
       "    <tr>\n",
       "      <th>3</th>\n",
       "      <td>2016-03-17 16:54:04</td>\n",
       "      <td>1500</td>\n",
       "      <td>small</td>\n",
       "      <td>2001</td>\n",
       "      <td>manual</td>\n",
       "      <td>75</td>\n",
       "      <td>golf</td>\n",
       "      <td>150000</td>\n",
       "      <td>6</td>\n",
       "      <td>petrol</td>\n",
       "      <td>volkswagen</td>\n",
       "      <td>no</td>\n",
       "      <td>2016-03-17 00:00:00</td>\n",
       "      <td>0</td>\n",
       "      <td>91074</td>\n",
       "      <td>2016-03-17 17:40:17</td>\n",
       "    </tr>\n",
       "    <tr>\n",
       "      <th>4</th>\n",
       "      <td>2016-03-31 17:25:20</td>\n",
       "      <td>3600</td>\n",
       "      <td>small</td>\n",
       "      <td>2008</td>\n",
       "      <td>manual</td>\n",
       "      <td>69</td>\n",
       "      <td>fabia</td>\n",
       "      <td>90000</td>\n",
       "      <td>7</td>\n",
       "      <td>gasoline</td>\n",
       "      <td>skoda</td>\n",
       "      <td>no</td>\n",
       "      <td>2016-03-31 00:00:00</td>\n",
       "      <td>0</td>\n",
       "      <td>60437</td>\n",
       "      <td>2016-04-06 10:17:21</td>\n",
       "    </tr>\n",
       "  </tbody>\n",
       "</table>\n",
       "</div>"
      ],
      "text/plain": [
       "           DateCrawled  Price VehicleType  RegistrationYear Gearbox  Power  \\\n",
       "0  2016-03-24 11:52:17    480         NaN              1993  manual      0   \n",
       "1  2016-03-24 10:58:45  18300       coupe              2011  manual    190   \n",
       "2  2016-03-14 12:52:21   9800         suv              2004    auto    163   \n",
       "3  2016-03-17 16:54:04   1500       small              2001  manual     75   \n",
       "4  2016-03-31 17:25:20   3600       small              2008  manual     69   \n",
       "\n",
       "   Model  Kilometer  RegistrationMonth  FuelType       Brand Repaired  \\\n",
       "0   golf     150000                  0    petrol  volkswagen      NaN   \n",
       "1    NaN     125000                  5  gasoline        audi      yes   \n",
       "2  grand     125000                  8  gasoline        jeep      NaN   \n",
       "3   golf     150000                  6    petrol  volkswagen       no   \n",
       "4  fabia      90000                  7  gasoline       skoda       no   \n",
       "\n",
       "           DateCreated  NumberOfPictures  PostalCode             LastSeen  \n",
       "0  2016-03-24 00:00:00                 0       70435  2016-04-07 03:16:57  \n",
       "1  2016-03-24 00:00:00                 0       66954  2016-04-07 01:46:50  \n",
       "2  2016-03-14 00:00:00                 0       90480  2016-04-05 12:47:46  \n",
       "3  2016-03-17 00:00:00                 0       91074  2016-03-17 17:40:17  \n",
       "4  2016-03-31 00:00:00                 0       60437  2016-04-06 10:17:21  "
      ]
     },
     "execution_count": 5,
     "metadata": {},
     "output_type": "execute_result"
    }
   ],
   "source": [
    "data.head()"
   ]
  },
  {
   "cell_type": "markdown",
   "metadata": {},
   "source": [
    "Признаки\n",
    "`DateCrawled`— дата скачивания анкеты из базы\n",
    "`VehicleType`— тип автомобильного кузова\n",
    "`RegistrationYear`— год регистрации автомобиля\n",
    "`Gearbox`— тип коробки передач\n",
    "`Power`— мощность (л. с.)\n",
    "`Model `— модель автомобиля\n",
    "`Kilometer` — пробег (км)\n",
    "`RegistrationMonth` — месяц регистрации автомобиля\n",
    "`FuelType` — тип топлива\n",
    "`Brand` — марка автомобиля\n",
    "`Repaired` — была машина в ремонте или нет\n",
    "`DateCreated` — дата создания анкеты\n",
    "`NumberOfPictures` — количество фотографий автомобиля\n",
    "`PostalCode` — почтовый индекс владельца анкеты (пользователя)\n",
    "`LastSeen` — дата последней активности пользователя"
   ]
  },
  {
   "cell_type": "markdown",
   "metadata": {},
   "source": [
    "Переведем названия признаков в более читаемый вид"
   ]
  },
  {
   "cell_type": "code",
   "execution_count": 6,
   "metadata": {},
   "outputs": [
    {
     "name": "stderr",
     "output_type": "stream",
     "text": [
      "C:\\Users\\Nayan\\AppData\\Local\\Temp\\ipykernel_4968\\3846741158.py:1: FutureWarning: The default value of regex will change from True to False in a future version.\n",
      "  data.columns = data.columns.str.replace(r\"([A-Z])\", r\" \\1\").str.lower().str.replace(' ', '_').str[1:]\n"
     ]
    }
   ],
   "source": [
    "data.columns = data.columns.str.replace(r\"([A-Z])\", r\" \\1\").str.lower().str.replace(' ', '_').str[1:]"
   ]
  },
  {
   "cell_type": "markdown",
   "metadata": {},
   "source": [
    "Процентное соотношение пропусков"
   ]
  },
  {
   "cell_type": "code",
   "execution_count": 7,
   "metadata": {},
   "outputs": [
    {
     "data": {
      "text/html": [
       "<style  type=\"text/css\" >\n",
       "#T_8144d_row0_col0,#T_8144d_row1_col0,#T_8144d_row3_col0,#T_8144d_row5_col0,#T_8144d_row7_col0,#T_8144d_row8_col0,#T_8144d_row10_col0,#T_8144d_row12_col0,#T_8144d_row13_col0,#T_8144d_row14_col0,#T_8144d_row15_col0{\n",
       "            background-color:  #3b4cc0;\n",
       "            color:  #f1f1f1;\n",
       "        }#T_8144d_row2_col0{\n",
       "            background-color:  #e9d5cb;\n",
       "            color:  #000000;\n",
       "        }#T_8144d_row4_col0,#T_8144d_row6_col0{\n",
       "            background-color:  #9ebeff;\n",
       "            color:  #000000;\n",
       "        }#T_8144d_row9_col0{\n",
       "            background-color:  #cfdaea;\n",
       "            color:  #000000;\n",
       "        }#T_8144d_row11_col0{\n",
       "            background-color:  #b40426;\n",
       "            color:  #f1f1f1;\n",
       "        }</style><table id=\"T_8144d_\" ><thead>    <tr>        <th class=\"blank level0\" ></th>        <th class=\"col_heading level0 col0\" >0</th>    </tr></thead><tbody>\n",
       "                <tr>\n",
       "                        <th id=\"T_8144d_level0_row0\" class=\"row_heading level0 row0\" >date_crawled</th>\n",
       "                        <td id=\"T_8144d_row0_col0\" class=\"data row0 col0\" >0.000000</td>\n",
       "            </tr>\n",
       "            <tr>\n",
       "                        <th id=\"T_8144d_level0_row1\" class=\"row_heading level0 row1\" >price</th>\n",
       "                        <td id=\"T_8144d_row1_col0\" class=\"data row1 col0\" >0.000000</td>\n",
       "            </tr>\n",
       "            <tr>\n",
       "                        <th id=\"T_8144d_level0_row2\" class=\"row_heading level0 row2\" >vehicle_type</th>\n",
       "                        <td id=\"T_8144d_row2_col0\" class=\"data row2 col0\" >11.000000</td>\n",
       "            </tr>\n",
       "            <tr>\n",
       "                        <th id=\"T_8144d_level0_row3\" class=\"row_heading level0 row3\" >registration_year</th>\n",
       "                        <td id=\"T_8144d_row3_col0\" class=\"data row3 col0\" >0.000000</td>\n",
       "            </tr>\n",
       "            <tr>\n",
       "                        <th id=\"T_8144d_level0_row4\" class=\"row_heading level0 row4\" >gearbox</th>\n",
       "                        <td id=\"T_8144d_row4_col0\" class=\"data row4 col0\" >6.000000</td>\n",
       "            </tr>\n",
       "            <tr>\n",
       "                        <th id=\"T_8144d_level0_row5\" class=\"row_heading level0 row5\" >power</th>\n",
       "                        <td id=\"T_8144d_row5_col0\" class=\"data row5 col0\" >0.000000</td>\n",
       "            </tr>\n",
       "            <tr>\n",
       "                        <th id=\"T_8144d_level0_row6\" class=\"row_heading level0 row6\" >model</th>\n",
       "                        <td id=\"T_8144d_row6_col0\" class=\"data row6 col0\" >6.000000</td>\n",
       "            </tr>\n",
       "            <tr>\n",
       "                        <th id=\"T_8144d_level0_row7\" class=\"row_heading level0 row7\" >kilometer</th>\n",
       "                        <td id=\"T_8144d_row7_col0\" class=\"data row7 col0\" >0.000000</td>\n",
       "            </tr>\n",
       "            <tr>\n",
       "                        <th id=\"T_8144d_level0_row8\" class=\"row_heading level0 row8\" >registration_month</th>\n",
       "                        <td id=\"T_8144d_row8_col0\" class=\"data row8 col0\" >0.000000</td>\n",
       "            </tr>\n",
       "            <tr>\n",
       "                        <th id=\"T_8144d_level0_row9\" class=\"row_heading level0 row9\" >fuel_type</th>\n",
       "                        <td id=\"T_8144d_row9_col0\" class=\"data row9 col0\" >9.000000</td>\n",
       "            </tr>\n",
       "            <tr>\n",
       "                        <th id=\"T_8144d_level0_row10\" class=\"row_heading level0 row10\" >brand</th>\n",
       "                        <td id=\"T_8144d_row10_col0\" class=\"data row10 col0\" >0.000000</td>\n",
       "            </tr>\n",
       "            <tr>\n",
       "                        <th id=\"T_8144d_level0_row11\" class=\"row_heading level0 row11\" >repaired</th>\n",
       "                        <td id=\"T_8144d_row11_col0\" class=\"data row11 col0\" >20.000000</td>\n",
       "            </tr>\n",
       "            <tr>\n",
       "                        <th id=\"T_8144d_level0_row12\" class=\"row_heading level0 row12\" >date_created</th>\n",
       "                        <td id=\"T_8144d_row12_col0\" class=\"data row12 col0\" >0.000000</td>\n",
       "            </tr>\n",
       "            <tr>\n",
       "                        <th id=\"T_8144d_level0_row13\" class=\"row_heading level0 row13\" >number_of_pictures</th>\n",
       "                        <td id=\"T_8144d_row13_col0\" class=\"data row13 col0\" >0.000000</td>\n",
       "            </tr>\n",
       "            <tr>\n",
       "                        <th id=\"T_8144d_level0_row14\" class=\"row_heading level0 row14\" >postal_code</th>\n",
       "                        <td id=\"T_8144d_row14_col0\" class=\"data row14 col0\" >0.000000</td>\n",
       "            </tr>\n",
       "            <tr>\n",
       "                        <th id=\"T_8144d_level0_row15\" class=\"row_heading level0 row15\" >last_seen</th>\n",
       "                        <td id=\"T_8144d_row15_col0\" class=\"data row15 col0\" >0.000000</td>\n",
       "            </tr>\n",
       "    </tbody></table>"
      ],
      "text/plain": [
       "<pandas.io.formats.style.Styler at 0x2b4ec6cd8e0>"
      ]
     },
     "execution_count": 7,
     "metadata": {},
     "output_type": "execute_result"
    }
   ],
   "source": [
    "pd.DataFrame(round(data.isna().mean()*100)).style.background_gradient('coolwarm')"
   ]
  },
  {
   "cell_type": "markdown",
   "metadata": {},
   "source": [
    "### Дата скачивания анкеты"
   ]
  },
  {
   "cell_type": "code",
   "execution_count": 8,
   "metadata": {},
   "outputs": [],
   "source": [
    "data['date_crawled'] = data['date_crawled'].astype('datetime64[ns]')"
   ]
  },
  {
   "cell_type": "code",
   "execution_count": 9,
   "metadata": {},
   "outputs": [
    {
     "data": {
      "text/plain": [
       "0   2016-03-24 11:52:17\n",
       "1   2016-03-24 10:58:45\n",
       "2   2016-03-14 12:52:21\n",
       "3   2016-03-17 16:54:04\n",
       "4   2016-03-31 17:25:20\n",
       "Name: date_crawled, dtype: datetime64[ns]"
      ]
     },
     "execution_count": 9,
     "metadata": {},
     "output_type": "execute_result"
    }
   ],
   "source": [
    "data['date_crawled'].head()"
   ]
  },
  {
   "cell_type": "markdown",
   "metadata": {},
   "source": [
    "Дата скачивания анкеты ограничена 2016 годом, поэтому данные больше 2016 года не интересуют"
   ]
  },
  {
   "cell_type": "markdown",
   "metadata": {},
   "source": [
    "### Год регистрации"
   ]
  },
  {
   "cell_type": "code",
   "execution_count": 10,
   "metadata": {},
   "outputs": [
    {
     "data": {
      "image/png": "[encoded data removed]",
      "text/plain": [
       "<Figure size 640x480 with 1 Axes>"
      ]
     },
     "metadata": {},
     "output_type": "display_data"
    }
   ],
   "source": [
    "data['registration_year'].hist(range=(1980, 2020))\n",
    "plt.show()"
   ]
  },
  {
   "cell_type": "markdown",
   "metadata": {},
   "source": [
    "При предобработке удалим выбросы и ограничим даннын 1980 и 2016 годом"
   ]
  },
  {
   "cell_type": "markdown",
   "metadata": {},
   "source": [
    "### Исследуем целевой признак"
   ]
  },
  {
   "cell_type": "code",
   "execution_count": 11,
   "metadata": {},
   "outputs": [
    {
     "data": {
      "image/png": "[encoded data removed]",
      "text/plain": [
       "<Figure size 800x600 with 1 Axes>"
      ]
     },
     "metadata": {},
     "output_type": "display_data"
    }
   ],
   "source": [
    "data['price'].hist( figsize= (8,6))\n",
    "plt.title('Цена')\n",
    "plt.show()"
   ]
  },
  {
   "cell_type": "code",
   "execution_count": 12,
   "metadata": {},
   "outputs": [
    {
     "data": {
      "text/plain": [
       "count    354369.000000\n",
       "mean       4416.656776\n",
       "std        4514.158514\n",
       "min           0.000000\n",
       "25%        1050.000000\n",
       "50%        2700.000000\n",
       "75%        6400.000000\n",
       "max       20000.000000\n",
       "Name: price, dtype: float64"
      ]
     },
     "execution_count": 12,
     "metadata": {},
     "output_type": "execute_result"
    }
   ],
   "source": [
    "data['price'].describe()"
   ]
  },
  {
   "cell_type": "code",
   "execution_count": 13,
   "metadata": {},
   "outputs": [
    {
     "data": {
      "text/plain": [
       "date_crawled          10772\n",
       "price                 10772\n",
       "vehicle_type           7032\n",
       "registration_year     10772\n",
       "gearbox                8294\n",
       "power                 10772\n",
       "model                  8588\n",
       "kilometer             10772\n",
       "registration_month    10772\n",
       "fuel_type              7336\n",
       "brand                 10772\n",
       "repaired               5484\n",
       "date_created          10772\n",
       "number_of_pictures    10772\n",
       "postal_code           10772\n",
       "last_seen             10772\n",
       "dtype: int64"
      ]
     },
     "execution_count": 13,
     "metadata": {},
     "output_type": "execute_result"
    }
   ],
   "source": [
    "data.loc[data['price'] == 0].count()"
   ]
  },
  {
   "cell_type": "markdown",
   "metadata": {},
   "source": [
    "В большинстве случаев продают непремиальные автомобили, имеющие небольшую стоимость, средняя цена автомобиля 4416. Заметны выбросы цены на автомобиль 0 быть не может 10 тысяч позиций, имеют пропуски."
   ]
  },
  {
   "cell_type": "markdown",
   "metadata": {},
   "source": [
    "### Зависимость цены от бренда"
   ]
  },
  {
   "cell_type": "code",
   "execution_count": 14,
   "metadata": {},
   "outputs": [
    {
     "data": {
      "text/html": [
       "<div>\n",
       "<style scoped>\n",
       "    .dataframe tbody tr th:only-of-type {\n",
       "        vertical-align: middle;\n",
       "    }\n",
       "\n",
       "    .dataframe tbody tr th {\n",
       "        vertical-align: top;\n",
       "    }\n",
       "\n",
       "    .dataframe thead th {\n",
       "        text-align: right;\n",
       "    }\n",
       "</style>\n",
       "<table border=\"1\" class=\"dataframe\">\n",
       "  <thead>\n",
       "    <tr style=\"text-align: right;\">\n",
       "      <th></th>\n",
       "      <th>count</th>\n",
       "      <th>sum</th>\n",
       "      <th>mean</th>\n",
       "    </tr>\n",
       "    <tr>\n",
       "      <th>brand</th>\n",
       "      <th></th>\n",
       "      <th></th>\n",
       "      <th></th>\n",
       "    </tr>\n",
       "  </thead>\n",
       "  <tbody>\n",
       "    <tr>\n",
       "      <th>porsche</th>\n",
       "      <td>758</td>\n",
       "      <td>8333960</td>\n",
       "      <td>10994.670185</td>\n",
       "    </tr>\n",
       "    <tr>\n",
       "      <th>mini</th>\n",
       "      <td>3202</td>\n",
       "      <td>28794453</td>\n",
       "      <td>8992.646159</td>\n",
       "    </tr>\n",
       "    <tr>\n",
       "      <th>land_rover</th>\n",
       "      <td>545</td>\n",
       "      <td>4594004</td>\n",
       "      <td>8429.365138</td>\n",
       "    </tr>\n",
       "    <tr>\n",
       "      <th>jeep</th>\n",
       "      <td>677</td>\n",
       "      <td>4783070</td>\n",
       "      <td>7065.096012</td>\n",
       "    </tr>\n",
       "    <tr>\n",
       "      <th>jaguar</th>\n",
       "      <td>505</td>\n",
       "      <td>3376197</td>\n",
       "      <td>6685.538614</td>\n",
       "    </tr>\n",
       "    <tr>\n",
       "      <th>audi</th>\n",
       "      <td>29456</td>\n",
       "      <td>183804748</td>\n",
       "      <td>6239.976507</td>\n",
       "    </tr>\n",
       "    <tr>\n",
       "      <th>bmw</th>\n",
       "      <td>36914</td>\n",
       "      <td>227471992</td>\n",
       "      <td>6162.214661</td>\n",
       "    </tr>\n",
       "    <tr>\n",
       "      <th>mercedes_benz</th>\n",
       "      <td>32046</td>\n",
       "      <td>189408127</td>\n",
       "      <td>5910.507614</td>\n",
       "    </tr>\n",
       "    <tr>\n",
       "      <th>skoda</th>\n",
       "      <td>5500</td>\n",
       "      <td>32502837</td>\n",
       "      <td>5909.606727</td>\n",
       "    </tr>\n",
       "    <tr>\n",
       "      <th>dacia</th>\n",
       "      <td>900</td>\n",
       "      <td>5255689</td>\n",
       "      <td>5839.654444</td>\n",
       "    </tr>\n",
       "    <tr>\n",
       "      <th>chevrolet</th>\n",
       "      <td>1754</td>\n",
       "      <td>9891354</td>\n",
       "      <td>5639.312429</td>\n",
       "    </tr>\n",
       "    <tr>\n",
       "      <th>hyundai</th>\n",
       "      <td>3587</td>\n",
       "      <td>18322422</td>\n",
       "      <td>5108.007248</td>\n",
       "    </tr>\n",
       "    <tr>\n",
       "      <th>sonstige_autos</th>\n",
       "      <td>3374</td>\n",
       "      <td>16957922</td>\n",
       "      <td>5026.058684</td>\n",
       "    </tr>\n",
       "    <tr>\n",
       "      <th>kia</th>\n",
       "      <td>2465</td>\n",
       "      <td>12280069</td>\n",
       "      <td>4981.772414</td>\n",
       "    </tr>\n",
       "    <tr>\n",
       "      <th>toyota</th>\n",
       "      <td>4606</td>\n",
       "      <td>21976387</td>\n",
       "      <td>4771.252063</td>\n",
       "    </tr>\n",
       "    <tr>\n",
       "      <th>volkswagen</th>\n",
       "      <td>77013</td>\n",
       "      <td>337415291</td>\n",
       "      <td>4381.277070</td>\n",
       "    </tr>\n",
       "    <tr>\n",
       "      <th>volvo</th>\n",
       "      <td>3210</td>\n",
       "      <td>13695329</td>\n",
       "      <td>4266.457632</td>\n",
       "    </tr>\n",
       "    <tr>\n",
       "      <th>nissan</th>\n",
       "      <td>4941</td>\n",
       "      <td>20182524</td>\n",
       "      <td>4084.704311</td>\n",
       "    </tr>\n",
       "    <tr>\n",
       "      <th>seat</th>\n",
       "      <td>6907</td>\n",
       "      <td>27611177</td>\n",
       "      <td>3997.564355</td>\n",
       "    </tr>\n",
       "    <tr>\n",
       "      <th>suzuki</th>\n",
       "      <td>2323</td>\n",
       "      <td>9001968</td>\n",
       "      <td>3875.147654</td>\n",
       "    </tr>\n",
       "    <tr>\n",
       "      <th>chrysler</th>\n",
       "      <td>1439</td>\n",
       "      <td>5339897</td>\n",
       "      <td>3710.838777</td>\n",
       "    </tr>\n",
       "    <tr>\n",
       "      <th>subaru</th>\n",
       "      <td>762</td>\n",
       "      <td>2818524</td>\n",
       "      <td>3698.850394</td>\n",
       "    </tr>\n",
       "    <tr>\n",
       "      <th>alfa_romeo</th>\n",
       "      <td>2314</td>\n",
       "      <td>8556299</td>\n",
       "      <td>3697.622731</td>\n",
       "    </tr>\n",
       "    <tr>\n",
       "      <th>saab</th>\n",
       "      <td>526</td>\n",
       "      <td>1929422</td>\n",
       "      <td>3668.102662</td>\n",
       "    </tr>\n",
       "    <tr>\n",
       "      <th>honda</th>\n",
       "      <td>2817</td>\n",
       "      <td>10280583</td>\n",
       "      <td>3649.479233</td>\n",
       "    </tr>\n",
       "    <tr>\n",
       "      <th>mazda</th>\n",
       "      <td>5615</td>\n",
       "      <td>20331261</td>\n",
       "      <td>3620.883526</td>\n",
       "    </tr>\n",
       "    <tr>\n",
       "      <th>smart</th>\n",
       "      <td>5246</td>\n",
       "      <td>18297170</td>\n",
       "      <td>3487.832634</td>\n",
       "    </tr>\n",
       "    <tr>\n",
       "      <th>citroen</th>\n",
       "      <td>5148</td>\n",
       "      <td>17849118</td>\n",
       "      <td>3467.194639</td>\n",
       "    </tr>\n",
       "    <tr>\n",
       "      <th>ford</th>\n",
       "      <td>25179</td>\n",
       "      <td>79961450</td>\n",
       "      <td>3175.719846</td>\n",
       "    </tr>\n",
       "    <tr>\n",
       "      <th>peugeot</th>\n",
       "      <td>10998</td>\n",
       "      <td>34224651</td>\n",
       "      <td>3111.897709</td>\n",
       "    </tr>\n",
       "    <tr>\n",
       "      <th>lada</th>\n",
       "      <td>225</td>\n",
       "      <td>683425</td>\n",
       "      <td>3037.444444</td>\n",
       "    </tr>\n",
       "    <tr>\n",
       "      <th>mitsubishi</th>\n",
       "      <td>3022</td>\n",
       "      <td>8861071</td>\n",
       "      <td>2932.187624</td>\n",
       "    </tr>\n",
       "    <tr>\n",
       "      <th>opel</th>\n",
       "      <td>39931</td>\n",
       "      <td>109042279</td>\n",
       "      <td>2730.767549</td>\n",
       "    </tr>\n",
       "    <tr>\n",
       "      <th>fiat</th>\n",
       "      <td>9643</td>\n",
       "      <td>25987353</td>\n",
       "      <td>2694.944830</td>\n",
       "    </tr>\n",
       "    <tr>\n",
       "      <th>lancia</th>\n",
       "      <td>471</td>\n",
       "      <td>1107336</td>\n",
       "      <td>2351.031847</td>\n",
       "    </tr>\n",
       "    <tr>\n",
       "      <th>renault</th>\n",
       "      <td>17927</td>\n",
       "      <td>40687607</td>\n",
       "      <td>2269.627210</td>\n",
       "    </tr>\n",
       "    <tr>\n",
       "      <th>daihatsu</th>\n",
       "      <td>806</td>\n",
       "      <td>1365087</td>\n",
       "      <td>1693.656328</td>\n",
       "    </tr>\n",
       "    <tr>\n",
       "      <th>trabant</th>\n",
       "      <td>589</td>\n",
       "      <td>952707</td>\n",
       "      <td>1617.499151</td>\n",
       "    </tr>\n",
       "    <tr>\n",
       "      <th>rover</th>\n",
       "      <td>486</td>\n",
       "      <td>639831</td>\n",
       "      <td>1316.524691</td>\n",
       "    </tr>\n",
       "    <tr>\n",
       "      <th>daewoo</th>\n",
       "      <td>542</td>\n",
       "      <td>551654</td>\n",
       "      <td>1017.811808</td>\n",
       "    </tr>\n",
       "  </tbody>\n",
       "</table>\n",
       "</div>"
      ],
      "text/plain": [
       "                count        sum          mean\n",
       "brand                                         \n",
       "porsche           758    8333960  10994.670185\n",
       "mini             3202   28794453   8992.646159\n",
       "land_rover        545    4594004   8429.365138\n",
       "jeep              677    4783070   7065.096012\n",
       "jaguar            505    3376197   6685.538614\n",
       "audi            29456  183804748   6239.976507\n",
       "bmw             36914  227471992   6162.214661\n",
       "mercedes_benz   32046  189408127   5910.507614\n",
       "skoda            5500   32502837   5909.606727\n",
       "dacia             900    5255689   5839.654444\n",
       "chevrolet        1754    9891354   5639.312429\n",
       "hyundai          3587   18322422   5108.007248\n",
       "sonstige_autos   3374   16957922   5026.058684\n",
       "kia              2465   12280069   4981.772414\n",
       "toyota           4606   21976387   4771.252063\n",
       "volkswagen      77013  337415291   4381.277070\n",
       "volvo            3210   13695329   4266.457632\n",
       "nissan           4941   20182524   4084.704311\n",
       "seat             6907   27611177   3997.564355\n",
       "suzuki           2323    9001968   3875.147654\n",
       "chrysler         1439    5339897   3710.838777\n",
       "subaru            762    2818524   3698.850394\n",
       "alfa_romeo       2314    8556299   3697.622731\n",
       "saab              526    1929422   3668.102662\n",
       "honda            2817   10280583   3649.479233\n",
       "mazda            5615   20331261   3620.883526\n",
       "smart            5246   18297170   3487.832634\n",
       "citroen          5148   17849118   3467.194639\n",
       "ford            25179   79961450   3175.719846\n",
       "peugeot         10998   34224651   3111.897709\n",
       "lada              225     683425   3037.444444\n",
       "mitsubishi       3022    8861071   2932.187624\n",
       "opel            39931  109042279   2730.767549\n",
       "fiat             9643   25987353   2694.944830\n",
       "lancia            471    1107336   2351.031847\n",
       "renault         17927   40687607   2269.627210\n",
       "daihatsu          806    1365087   1693.656328\n",
       "trabant           589     952707   1617.499151\n",
       "rover             486     639831   1316.524691\n",
       "daewoo            542     551654   1017.811808"
      ]
     },
     "execution_count": 14,
     "metadata": {},
     "output_type": "execute_result"
    }
   ],
   "source": [
    "brand = data.pivot_table(index='brand', values='price', aggfunc=['count', 'sum', 'mean'])\n",
    "brand.columns = ['count', 'sum','mean'] \n",
    "brand = brand.sort_values(by='mean',ascending=False)\n",
    "brand"
   ]
  },
  {
   "cell_type": "markdown",
   "metadata": {},
   "source": [
    "### Промежуточный вывод\n",
    "В предобработке данных нужно:\n",
    "\n",
    "**1) Заменить все пропуски на значение `unknown`**\n",
    "\n",
    "**2) Удалить дубликаты**\n",
    "\n",
    "**3) В колонке power присутствуют нулевые значения, заменить их медианой по Model и Brand**\n",
    "\n",
    "**4) Удалить ненужные колонки**"
   ]
  },
  {
   "cell_type": "markdown",
   "metadata": {},
   "source": [
    "## Предобработка данных"
   ]
  },
  {
   "cell_type": "markdown",
   "metadata": {},
   "source": [
    "### Заполним пропуски и проверим наличие дубликатов"
   ]
  },
  {
   "cell_type": "code",
   "execution_count": 15,
   "metadata": {},
   "outputs": [],
   "source": [
    "for i in data:\n",
    "    data[i] = data[i].fillna('unknown') "
   ]
  },
  {
   "cell_type": "code",
   "execution_count": 16,
   "metadata": {},
   "outputs": [
    {
     "data": {
      "text/plain": [
       "4"
      ]
     },
     "execution_count": 16,
     "metadata": {},
     "output_type": "execute_result"
    }
   ],
   "source": [
    "data.duplicated().sum()"
   ]
  },
  {
   "cell_type": "code",
   "execution_count": 17,
   "metadata": {},
   "outputs": [],
   "source": [
    "data = data.drop_duplicates().reset_index(drop=True)"
   ]
  },
  {
   "cell_type": "markdown",
   "metadata": {},
   "source": [
    "### Заполним нулевые значения "
   ]
  },
  {
   "cell_type": "code",
   "execution_count": 18,
   "metadata": {},
   "outputs": [],
   "source": [
    "data.loc[data['power'] == 0, 'power'] = float('nan')\n",
    "data['power'] = data['power'].fillna(data.groupby(['brand', 'model'])['power'].transform('median'))\n",
    "\n",
    "data['power'] = data['power'].fillna(data['power'].median())"
   ]
  },
  {
   "cell_type": "code",
   "execution_count": 19,
   "metadata": {},
   "outputs": [],
   "source": [
    "data.loc[data['price'] == 0, 'price'] = float('nan')\n",
    "data['price'] = data['price'].fillna(data.groupby(['brand', 'model'])['price'].transform('median'))\n",
    "\n",
    "data['price'] = data['price'].fillna(data['price'].median())"
   ]
  },
  {
   "cell_type": "code",
   "execution_count": 20,
   "metadata": {},
   "outputs": [],
   "source": [
    "data['power'] = data['power'].astype('int16')"
   ]
  },
  {
   "cell_type": "markdown",
   "metadata": {},
   "source": [
    "### Удалим неинформативные признаки"
   ]
  },
  {
   "cell_type": "code",
   "execution_count": 21,
   "metadata": {},
   "outputs": [],
   "source": [
    "data = data.drop(['date_crawled', 'date_created', 'number_of_pictures', 'registration_month',\n",
    "                      'postal_code', 'last_seen', 'model'], axis=1 )"
   ]
  },
  {
   "cell_type": "markdown",
   "metadata": {},
   "source": [
    "избавимся от года регистрации позже 2016 и до 1985"
   ]
  },
  {
   "cell_type": "code",
   "execution_count": 22,
   "metadata": {},
   "outputs": [],
   "source": [
    "data = data.query(\"registration_year <= 2016\")"
   ]
  },
  {
   "cell_type": "markdown",
   "metadata": {},
   "source": [
    "Присутствуют нулевые значения в признаке price. Цена не может быть нулевой, к тому же это целевой признак. Самое интересное, что на нескольких сайтах по продаже подержанных автомобилей в Германии(по почтовому индексу) показало, что цены, действительно, начинаются с 0 и 1 евро, но это единичные объявления. Не понятно, то ли это ошибка при заполнении формы, то ли машины на металлолом. Другой возможный способ - удаление."
   ]
  },
  {
   "cell_type": "markdown",
   "metadata": {},
   "source": [
    "### Разделение данных "
   ]
  },
  {
   "cell_type": "markdown",
   "metadata": {},
   "source": [
    "Разделим данные на тестовую и тренировочную выборки"
   ]
  },
  {
   "cell_type": "code",
   "execution_count": 23,
   "metadata": {},
   "outputs": [],
   "source": [
    "features = data.drop('price', axis=1)\n",
    "target = data['price']"
   ]
  },
  {
   "cell_type": "code",
   "execution_count": 24,
   "metadata": {},
   "outputs": [],
   "source": [
    "features_train, features_test, target_train, target_test = train_test_split(features, target,\n",
    "         test_size=0.25, random_state=12345, shuffle=True) "
   ]
  },
  {
   "cell_type": "markdown",
   "metadata": {},
   "source": [
    "## Обучение моделей"
   ]
  },
  {
   "cell_type": "markdown",
   "metadata": {},
   "source": [
    "### Масштабирование и стандартизация"
   ]
  },
  {
   "cell_type": "markdown",
   "metadata": {},
   "source": [
    "Для того чтобы модель работала корректно необходимо закодировать категориальные признаки. Кодировать признаковое пространство будем двумя способами `OHE` - прямое кодирование."
   ]
  },
  {
   "cell_type": "markdown",
   "metadata": {},
   "source": [
    "**Категориальные признаки**"
   ]
  },
  {
   "cell_type": "code",
   "execution_count": 62,
   "metadata": {},
   "outputs": [
    {
     "data": {
      "text/plain": [
       "['vehicle_type', 'gearbox', 'fuel_type', 'brand', 'repaired']"
      ]
     },
     "execution_count": 62,
     "metadata": {},
     "output_type": "execute_result"
    }
   ],
   "source": [
    "ohe_features = features_train.select_dtypes(include='object').columns.to_list()\n",
    "ohe_features"
   ]
  },
  {
   "cell_type": "markdown",
   "metadata": {},
   "source": [
    "**Числовые признаки**"
   ]
  },
  {
   "cell_type": "code",
   "execution_count": 63,
   "metadata": {},
   "outputs": [
    {
     "data": {
      "text/plain": [
       "['registration_year', 'power', 'kilometer']"
      ]
     },
     "execution_count": 63,
     "metadata": {},
     "output_type": "execute_result"
    }
   ],
   "source": [
    "num_features = features_train.select_dtypes(exclude='object').columns.to_list()\n",
    "num_features"
   ]
  },
  {
   "cell_type": "markdown",
   "metadata": {},
   "source": [
    "Трансформируем категориальные признаки в числовые "
   ]
  },
  {
   "cell_type": "code",
   "execution_count": 64,
   "metadata": {},
   "outputs": [],
   "source": [
    "X_train = features_train.copy()\n",
    "X_test = features_test.copy()"
   ]
  },
  {
   "cell_type": "code",
   "execution_count": 65,
   "metadata": {},
   "outputs": [
    {
     "data": {
      "text/html": [
       "<div>\n",
       "<style scoped>\n",
       "    .dataframe tbody tr th:only-of-type {\n",
       "        vertical-align: middle;\n",
       "    }\n",
       "\n",
       "    .dataframe tbody tr th {\n",
       "        vertical-align: top;\n",
       "    }\n",
       "\n",
       "    .dataframe thead th {\n",
       "        text-align: right;\n",
       "    }\n",
       "</style>\n",
       "<table border=\"1\" class=\"dataframe\">\n",
       "  <thead>\n",
       "    <tr style=\"text-align: right;\">\n",
       "      <th></th>\n",
       "      <th>vehicle_type_convertible</th>\n",
       "      <th>vehicle_type_coupe</th>\n",
       "      <th>vehicle_type_other</th>\n",
       "      <th>vehicle_type_sedan</th>\n",
       "      <th>vehicle_type_small</th>\n",
       "      <th>vehicle_type_suv</th>\n",
       "      <th>vehicle_type_unknown</th>\n",
       "      <th>vehicle_type_wagon</th>\n",
       "      <th>gearbox_manual</th>\n",
       "      <th>gearbox_unknown</th>\n",
       "      <th>...</th>\n",
       "      <th>brand_suzuki</th>\n",
       "      <th>brand_toyota</th>\n",
       "      <th>brand_trabant</th>\n",
       "      <th>brand_volkswagen</th>\n",
       "      <th>brand_volvo</th>\n",
       "      <th>repaired_unknown</th>\n",
       "      <th>repaired_yes</th>\n",
       "      <th>registration_year</th>\n",
       "      <th>power</th>\n",
       "      <th>kilometer</th>\n",
       "    </tr>\n",
       "  </thead>\n",
       "  <tbody>\n",
       "    <tr>\n",
       "      <th>0</th>\n",
       "      <td>0.0</td>\n",
       "      <td>0.0</td>\n",
       "      <td>0.0</td>\n",
       "      <td>0.0</td>\n",
       "      <td>0.0</td>\n",
       "      <td>0.0</td>\n",
       "      <td>1.0</td>\n",
       "      <td>0.0</td>\n",
       "      <td>0.0</td>\n",
       "      <td>1.0</td>\n",
       "      <td>...</td>\n",
       "      <td>0.0</td>\n",
       "      <td>0.0</td>\n",
       "      <td>0.0</td>\n",
       "      <td>0.0</td>\n",
       "      <td>0.0</td>\n",
       "      <td>1.0</td>\n",
       "      <td>0.0</td>\n",
       "      <td>0.191238</td>\n",
       "      <td>-0.260674</td>\n",
       "      <td>0.578417</td>\n",
       "    </tr>\n",
       "    <tr>\n",
       "      <th>1</th>\n",
       "      <td>0.0</td>\n",
       "      <td>0.0</td>\n",
       "      <td>0.0</td>\n",
       "      <td>0.0</td>\n",
       "      <td>0.0</td>\n",
       "      <td>0.0</td>\n",
       "      <td>0.0</td>\n",
       "      <td>1.0</td>\n",
       "      <td>1.0</td>\n",
       "      <td>0.0</td>\n",
       "      <td>...</td>\n",
       "      <td>0.0</td>\n",
       "      <td>0.0</td>\n",
       "      <td>0.0</td>\n",
       "      <td>0.0</td>\n",
       "      <td>0.0</td>\n",
       "      <td>0.0</td>\n",
       "      <td>0.0</td>\n",
       "      <td>0.617240</td>\n",
       "      <td>0.334449</td>\n",
       "      <td>0.578417</td>\n",
       "    </tr>\n",
       "    <tr>\n",
       "      <th>2</th>\n",
       "      <td>0.0</td>\n",
       "      <td>0.0</td>\n",
       "      <td>0.0</td>\n",
       "      <td>0.0</td>\n",
       "      <td>1.0</td>\n",
       "      <td>0.0</td>\n",
       "      <td>0.0</td>\n",
       "      <td>0.0</td>\n",
       "      <td>1.0</td>\n",
       "      <td>0.0</td>\n",
       "      <td>...</td>\n",
       "      <td>0.0</td>\n",
       "      <td>0.0</td>\n",
       "      <td>0.0</td>\n",
       "      <td>0.0</td>\n",
       "      <td>0.0</td>\n",
       "      <td>0.0</td>\n",
       "      <td>0.0</td>\n",
       "      <td>-0.021763</td>\n",
       "      <td>-0.353491</td>\n",
       "      <td>-1.266100</td>\n",
       "    </tr>\n",
       "    <tr>\n",
       "      <th>3</th>\n",
       "      <td>0.0</td>\n",
       "      <td>0.0</td>\n",
       "      <td>0.0</td>\n",
       "      <td>0.0</td>\n",
       "      <td>0.0</td>\n",
       "      <td>0.0</td>\n",
       "      <td>0.0</td>\n",
       "      <td>0.0</td>\n",
       "      <td>1.0</td>\n",
       "      <td>0.0</td>\n",
       "      <td>...</td>\n",
       "      <td>0.0</td>\n",
       "      <td>0.0</td>\n",
       "      <td>0.0</td>\n",
       "      <td>1.0</td>\n",
       "      <td>0.0</td>\n",
       "      <td>1.0</td>\n",
       "      <td>0.0</td>\n",
       "      <td>-0.305765</td>\n",
       "      <td>0.039617</td>\n",
       "      <td>0.578417</td>\n",
       "    </tr>\n",
       "    <tr>\n",
       "      <th>4</th>\n",
       "      <td>0.0</td>\n",
       "      <td>0.0</td>\n",
       "      <td>0.0</td>\n",
       "      <td>1.0</td>\n",
       "      <td>0.0</td>\n",
       "      <td>0.0</td>\n",
       "      <td>0.0</td>\n",
       "      <td>0.0</td>\n",
       "      <td>1.0</td>\n",
       "      <td>0.0</td>\n",
       "      <td>...</td>\n",
       "      <td>0.0</td>\n",
       "      <td>0.0</td>\n",
       "      <td>0.0</td>\n",
       "      <td>0.0</td>\n",
       "      <td>0.0</td>\n",
       "      <td>0.0</td>\n",
       "      <td>0.0</td>\n",
       "      <td>-1.015769</td>\n",
       "      <td>-0.053200</td>\n",
       "      <td>0.578417</td>\n",
       "    </tr>\n",
       "  </tbody>\n",
       "</table>\n",
       "<p>5 rows × 61 columns</p>\n",
       "</div>"
      ],
      "text/plain": [
       "   vehicle_type_convertible  vehicle_type_coupe  vehicle_type_other  \\\n",
       "0                       0.0                 0.0                 0.0   \n",
       "1                       0.0                 0.0                 0.0   \n",
       "2                       0.0                 0.0                 0.0   \n",
       "3                       0.0                 0.0                 0.0   \n",
       "4                       0.0                 0.0                 0.0   \n",
       "\n",
       "   vehicle_type_sedan  vehicle_type_small  vehicle_type_suv  \\\n",
       "0                 0.0                 0.0               0.0   \n",
       "1                 0.0                 0.0               0.0   \n",
       "2                 0.0                 1.0               0.0   \n",
       "3                 0.0                 0.0               0.0   \n",
       "4                 1.0                 0.0               0.0   \n",
       "\n",
       "   vehicle_type_unknown  vehicle_type_wagon  gearbox_manual  gearbox_unknown  \\\n",
       "0                   1.0                 0.0             0.0              1.0   \n",
       "1                   0.0                 1.0             1.0              0.0   \n",
       "2                   0.0                 0.0             1.0              0.0   \n",
       "3                   0.0                 0.0             1.0              0.0   \n",
       "4                   0.0                 0.0             1.0              0.0   \n",
       "\n",
       "   ...  brand_suzuki  brand_toyota  brand_trabant  brand_volkswagen  \\\n",
       "0  ...           0.0           0.0            0.0               0.0   \n",
       "1  ...           0.0           0.0            0.0               0.0   \n",
       "2  ...           0.0           0.0            0.0               0.0   \n",
       "3  ...           0.0           0.0            0.0               1.0   \n",
       "4  ...           0.0           0.0            0.0               0.0   \n",
       "\n",
       "   brand_volvo  repaired_unknown  repaired_yes  registration_year     power  \\\n",
       "0          0.0               1.0           0.0           0.191238 -0.260674   \n",
       "1          0.0               0.0           0.0           0.617240  0.334449   \n",
       "2          0.0               0.0           0.0          -0.021763 -0.353491   \n",
       "3          0.0               1.0           0.0          -0.305765  0.039617   \n",
       "4          0.0               0.0           0.0          -1.015769 -0.053200   \n",
       "\n",
       "   kilometer  \n",
       "0   0.578417  \n",
       "1   0.578417  \n",
       "2  -1.266100  \n",
       "3   0.578417  \n",
       "4   0.578417  \n",
       "\n",
       "[5 rows x 61 columns]"
      ]
     },
     "execution_count": 65,
     "metadata": {},
     "output_type": "execute_result"
    }
   ],
   "source": [
    "col_transformer = make_column_transformer(\n",
    "    (\n",
    "        OneHotEncoder(drop='first', handle_unknown='ignore'),\n",
    "        ohe_features\n",
    "    ),\n",
    "    (\n",
    "        StandardScaler(), \n",
    "        num_features\n",
    "    ),\n",
    "    remainder='passthrough',\n",
    "    verbose_feature_names_out = False\n",
    ")\n",
    "\n",
    "\n",
    "X_train = pd.DataFrame.sparse.from_spmatrix(\n",
    "    col_transformer.fit_transform(X_train),\n",
    "    columns=col_transformer.get_feature_names_out()\n",
    ")\n",
    "\n",
    "X_train.head()"
   ]
  },
  {
   "cell_type": "markdown",
   "metadata": {},
   "source": [
    "### **LightGBM**"
   ]
  },
  {
   "cell_type": "code",
   "execution_count": 39,
   "metadata": {},
   "outputs": [
    {
     "name": "stdout",
     "output_type": "stream",
     "text": [
      "Лучшие значения LGB регрессии: -1725.7947922069386\n",
      "Лучшие параметры LGB регрессии: {'model__num_leaves': 16, 'model__n_estimators': 180, 'model__max_depth': 17, 'model__learning_rate': 0.3}\n",
      "CPU times: total: 13.8 s\n",
      "Wall time: 1min 6s\n"
     ]
    }
   ],
   "source": [
    "%%time\n",
    "model_lgb= lgb.LGBMRegressor(random_state=12345)\n",
    "\n",
    "pipeline_lgb = Pipeline(steps= [['transformer', col_transformer],\n",
    "                            ['model', model_lgb]])\n",
    "\n",
    "param_grid_lgb = {\n",
    "    'model__n_estimators': np.arange(10, 201, 10),\n",
    "    'model__max_depth': np.arange(2, 20),\n",
    "    'model__num_leaves': np.arange(2, 31, 2),\n",
    "    'model__learning_rate': [0.01, 0.05, 0.1, 0.3]\n",
    "}\n",
    "\n",
    "gs_lgb = RandomizedSearchCV(\n",
    "                            estimator=pipeline_lgb, \n",
    "                            param_distributions=param_grid_lgb,\n",
    "                            n_jobs=-1,\n",
    "                            scoring='neg_root_mean_squared_error',\n",
    "                            random_state=12345,\n",
    "                            cv=5,\n",
    "                            error_score='raise'\n",
    ")\n",
    "\n",
    "gs_lgb.fit(features_train, target_train)\n",
    "\n",
    "best_estimator_lgb = gs_lgb.best_estimator_\n",
    "best_score_lgb = gs_lgb.best_score_\n",
    "best_params_lgb = gs_lgb.best_params_\n",
    "\n",
    "print('Лучшие значения LGB регрессии: {}'.format(best_score_lgb))\n",
    "      \n",
    "print('Лучшие параметры LGB регрессии: {}'.format(best_params_lgb))"
   ]
  },
  {
   "cell_type": "markdown",
   "metadata": {},
   "source": [
    "### **Catboost**"
   ]
  },
  {
   "cell_type": "code",
   "execution_count": 37,
   "metadata": {},
   "outputs": [
    {
     "name": "stdout",
     "output_type": "stream",
     "text": [
      "0:\tlearn: 3540.3419542\ttotal: 460ms\tremaining: 3m 3s\n",
      "20:\tlearn: 1680.1670521\ttotal: 9.25s\tremaining: 2m 46s\n",
      "40:\tlearn: 1584.0274305\ttotal: 18.9s\tremaining: 2m 45s\n",
      "60:\tlearn: 1519.1334013\ttotal: 28.3s\tremaining: 2m 37s\n",
      "80:\tlearn: 1478.6996773\ttotal: 38s\tremaining: 2m 29s\n",
      "100:\tlearn: 1445.9745330\ttotal: 48.2s\tremaining: 2m 22s\n",
      "120:\tlearn: 1425.8703786\ttotal: 57.8s\tremaining: 2m 13s\n",
      "140:\tlearn: 1403.0926079\ttotal: 1m 8s\tremaining: 2m 5s\n",
      "160:\tlearn: 1386.1018836\ttotal: 1m 18s\tremaining: 1m 56s\n",
      "180:\tlearn: 1366.7550868\ttotal: 1m 28s\tremaining: 1m 47s\n",
      "200:\tlearn: 1354.4127911\ttotal: 1m 38s\tremaining: 1m 38s\n",
      "220:\tlearn: 1339.7270830\ttotal: 1m 49s\tremaining: 1m 28s\n",
      "240:\tlearn: 1327.0898286\ttotal: 1m 59s\tremaining: 1m 18s\n",
      "260:\tlearn: 1316.6302283\ttotal: 2m 9s\tremaining: 1m 8s\n",
      "280:\tlearn: 1306.6827890\ttotal: 2m 19s\tremaining: 59.2s\n",
      "300:\tlearn: 1295.3742708\ttotal: 2m 29s\tremaining: 49.2s\n",
      "320:\tlearn: 1286.4674135\ttotal: 2m 39s\tremaining: 39.3s\n",
      "340:\tlearn: 1278.3325350\ttotal: 2m 50s\tremaining: 29.5s\n",
      "360:\tlearn: 1270.3203837\ttotal: 3m\tremaining: 19.5s\n",
      "380:\tlearn: 1262.2557559\ttotal: 3m 11s\tremaining: 9.54s\n",
      "399:\tlearn: 1254.1968237\ttotal: 3m 21s\tremaining: 0us\n",
      "Лучшие значения CatBoost: -1667.1548052192368\n",
      "Лучшие параметры CatBoost: {'learning_rate': 0.3, 'iterations': 400, 'eval_metric': 'RMSE', 'depth': 13}\n",
      "CPU times: total: 11min 7s\n",
      "Wall time: 25min 47s\n"
     ]
    }
   ],
   "source": [
    "%%time\n",
    "model_cat = CatBoostRegressor(random_seed=42,early_stopping_rounds=50)\n",
    "\n",
    "param_grid_cat = {\n",
    "    'iterations':  [100, 400],\n",
    "    'learning_rate': [0.1,0.3],\n",
    "    'depth': np.arange(2, 15),\n",
    "    'eval_metric': ['RMSE']\n",
    "}\n",
    "\n",
    "gs_cat = RandomizedSearchCV(\n",
    "    estimator=model_cat,\n",
    "    param_distributions=param_grid_cat, \n",
    "    n_jobs=-1, \n",
    "    scoring='neg_root_mean_squared_error',\n",
    "    random_state=12345,\n",
    "    cv=5,\n",
    "    error_score='raise')\n",
    "\n",
    "gs_cat.fit(features_train, target_train, cat_features=ohe_features, verbose=20)\n",
    "\n",
    "best_estimator_cat = gs_cat.best_estimator_\n",
    "best_score_cat = gs_cat.best_score_\n",
    "best_params_cat = gs_cat.best_params_\n",
    "\n",
    "print('Лучшие значения CatBoost: {}'.format(best_score_cat))\n",
    "\n",
    "print('Лучшие параметры CatBoost: {}'.format(best_params_cat))"
   ]
  },
  {
   "cell_type": "markdown",
   "metadata": {},
   "source": [
    "### **Stochastic Gradient Descent**"
   ]
  },
  {
   "cell_type": "code",
   "execution_count": 56,
   "metadata": {},
   "outputs": [
    {
     "name": "stdout",
     "output_type": "stream",
     "text": [
      "Лучшие значения Логистической регрессии: -3289.922636252908\n",
      "Лучшие параметры Логистической регрессии: {'model__alpha': 1e-06, 'model__loss': 'squared_error', 'model__max_iter': 1000, 'model__penalty': 'l2'}\n",
      "CPU times: total: 27.5 s\n",
      "Wall time: 1h 27min 21s\n"
     ]
    }
   ],
   "source": [
    "%%time\n",
    "sgd = SGDRegressor(max_iter=1000,random_state = 12345) \n",
    "\n",
    "pipeline = Pipeline(steps= [['transformer', col_transformer],\n",
    "                            ['model', sgd]])\n",
    "param_grid = {\n",
    "    'model__max_iter': [1000, 1500],\n",
    "    'model__alpha': 10.0 ** -np.arange(1, 7),\n",
    "    'model__loss': ['epsilon_insensitive', 'squared_epsilon_insensitive', 'huber', 'squared_error'],\n",
    "    'model__penalty': ['l2']\n",
    "    \n",
    "}\n",
    "\n",
    "gs_sgd = GridSearchCV(estimator=pipeline,\n",
    "                        param_grid = param_grid,\n",
    "                        scoring='neg_root_mean_squared_error',\n",
    "                        n_jobs=-1,\n",
    "                        cv=5,\n",
    "                        error_score='raise')\n",
    "\n",
    "gs_sgd.fit(features_train, target_train)\n",
    "\n",
    "best_estimator_sgd = gs_sgd.best_estimator_\n",
    "best_score_sgd = gs_sgd.best_score_\n",
    "best_params_sgd = gs_sgd.best_params_\n",
    "\n",
    "print('Лучшие значения Логистической регрессии: {}'.format(best_score_sgd))\n",
    "      \n",
    "print('Лучшие параметры Логистической регрессии: {}'.format(best_params_sgd))"
   ]
  },
  {
   "cell_type": "markdown",
   "metadata": {},
   "source": [
    "## Анализ моделей"
   ]
  },
  {
   "cell_type": "code",
   "execution_count": 60,
   "metadata": {},
   "outputs": [
    {
     "data": {
      "text/html": [
       "<div>\n",
       "<style scoped>\n",
       "    .dataframe tbody tr th:only-of-type {\n",
       "        vertical-align: middle;\n",
       "    }\n",
       "\n",
       "    .dataframe tbody tr th {\n",
       "        vertical-align: top;\n",
       "    }\n",
       "\n",
       "    .dataframe thead th {\n",
       "        text-align: right;\n",
       "    }\n",
       "</style>\n",
       "<table border=\"1\" class=\"dataframe\">\n",
       "  <thead>\n",
       "    <tr style=\"text-align: right;\">\n",
       "      <th></th>\n",
       "      <th>Алгоритмы</th>\n",
       "      <th>RMSE(вал)</th>\n",
       "    </tr>\n",
       "  </thead>\n",
       "  <tbody>\n",
       "    <tr>\n",
       "      <th>0</th>\n",
       "      <td>LightGBM</td>\n",
       "      <td>1725.794792</td>\n",
       "    </tr>\n",
       "    <tr>\n",
       "      <th>1</th>\n",
       "      <td>CatBoost</td>\n",
       "      <td>1667.154805</td>\n",
       "    </tr>\n",
       "    <tr>\n",
       "      <th>2</th>\n",
       "      <td>SGD</td>\n",
       "      <td>3289.922636</td>\n",
       "    </tr>\n",
       "  </tbody>\n",
       "</table>\n",
       "</div>"
      ],
      "text/plain": [
       "  Алгоритмы    RMSE(вал)\n",
       "0  LightGBM  1725.794792\n",
       "1  CatBoost  1667.154805\n",
       "2       SGD  3289.922636"
      ]
     },
     "execution_count": 60,
     "metadata": {},
     "output_type": "execute_result"
    }
   ],
   "source": [
    "pd.DataFrame({'Алгоритмы': ['LightGBM', 'CatBoost', 'SGD'],\n",
    "             'RMSE(вал)': [- best_score_lgb,- best_score_cat,- best_score_sgd],})"
   ]
  },
  {
   "cell_type": "markdown",
   "metadata": {},
   "source": [
    "Catboost занял намного больше времени чем LightGBM, но показатели RMSE уменьши достаточно, также SGD не подходит для данной задачи."
   ]
  },
  {
   "cell_type": "markdown",
   "metadata": {},
   "source": [
    "## Тестирование лучшей модели"
   ]
  },
  {
   "cell_type": "code",
   "execution_count": 67,
   "metadata": {},
   "outputs": [
    {
     "name": "stdout",
     "output_type": "stream",
     "text": [
      "0:\tlearn: 3540.3419542\ttotal: 693ms\tremaining: 4m 36s\n",
      "20:\tlearn: 1680.1670521\ttotal: 9.66s\tremaining: 2m 54s\n",
      "40:\tlearn: 1584.0274305\ttotal: 20s\tremaining: 2m 55s\n",
      "60:\tlearn: 1519.1334013\ttotal: 29.2s\tremaining: 2m 42s\n",
      "80:\tlearn: 1478.6996773\ttotal: 40.8s\tremaining: 2m 40s\n",
      "100:\tlearn: 1445.9745330\ttotal: 51.8s\tremaining: 2m 33s\n",
      "120:\tlearn: 1425.8703786\ttotal: 1m 1s\tremaining: 2m 22s\n",
      "140:\tlearn: 1403.0926079\ttotal: 1m 13s\tremaining: 2m 15s\n",
      "160:\tlearn: 1386.1018836\ttotal: 1m 24s\tremaining: 2m 5s\n",
      "180:\tlearn: 1366.7550868\ttotal: 1m 35s\tremaining: 1m 55s\n",
      "200:\tlearn: 1354.4127911\ttotal: 1m 46s\tremaining: 1m 45s\n",
      "220:\tlearn: 1339.7270830\ttotal: 1m 58s\tremaining: 1m 35s\n",
      "240:\tlearn: 1327.0898286\ttotal: 2m 9s\tremaining: 1m 25s\n",
      "260:\tlearn: 1316.6302283\ttotal: 2m 19s\tremaining: 1m 14s\n",
      "280:\tlearn: 1306.6827890\ttotal: 2m 30s\tremaining: 1m 3s\n",
      "300:\tlearn: 1295.3742708\ttotal: 2m 40s\tremaining: 52.8s\n",
      "320:\tlearn: 1286.4674135\ttotal: 2m 51s\tremaining: 42.1s\n",
      "340:\tlearn: 1278.3325350\ttotal: 3m 6s\tremaining: 32.2s\n",
      "360:\tlearn: 1270.3203837\ttotal: 3m 18s\tremaining: 21.5s\n",
      "380:\tlearn: 1262.2557559\ttotal: 3m 29s\tremaining: 10.5s\n",
      "399:\tlearn: 1254.1968237\ttotal: 3m 40s\tremaining: 0us\n"
     ]
    },
    {
     "data": {
      "text/plain": [
       "1657.2970399725896"
      ]
     },
     "execution_count": 67,
     "metadata": {},
     "output_type": "execute_result"
    }
   ],
   "source": [
    "best_estimator_cat.fit(features_train, target_train, cat_features=ohe_features, verbose=20)\n",
    "predictions = best_estimator_cat.predict(features_test)\n",
    "(mean_squared_error(target_test, predictions))**0.5"
   ]
  },
  {
   "cell_type": "markdown",
   "metadata": {},
   "source": [
    "Catboost на тестовой выборке показал 1657, хороший результат, цель заказчика достигнуть метрики RMSE < 1800"
   ]
  },
  {
   "cell_type": "markdown",
   "metadata": {},
   "source": [
    "## Важность признаков "
   ]
  },
  {
   "cell_type": "code",
   "execution_count": 69,
   "metadata": {},
   "outputs": [
    {
     "data": {
      "image/png": "[encoded data removed]",
      "text/plain": [
       "<Figure size 1000x800 with 1 Axes>"
      ]
     },
     "metadata": {},
     "output_type": "display_data"
    }
   ],
   "source": [
    "cat = pd.Series(best_estimator_cat.get_feature_importance(),\n",
    "                         features_train.columns).sort_values()\n",
    "\n",
    "fig, ax = plt.subplots(figsize=(10,8))\n",
    "cat.plot.bar(ax=ax)\n",
    "ax.set_title(\"Важность признаков\")\n",
    "ax.set_ylabel('Важность, %')\n",
    "ax.grid()\n",
    "fig.tight_layout()"
   ]
  },
  {
   "cell_type": "markdown",
   "metadata": {},
   "source": [
    "## Вывод"
   ]
  },
  {
   "cell_type": "markdown",
   "metadata": {},
   "source": [
    "В данной работе, был проведен анализ данных, их предобработка, а именно: заполнение пропусков, удаление дубликатов, разделение данных на тестовую и обучающую выборки. Обучили три модели: Catboost, LightGBM, SGD, лучшей оказался Catboost со значение RMSE = 1675 на обучающей выборке. "
   ]
  }
 ],
 "metadata": {
  "kernelspec": {
   "display_name": "Python 3 (ipykernel)",
   "language": "python",
   "name": "python3"
  },
  "language_info": {
   "codemirror_mode": {
    "name": "ipython",
    "version": 3
   },
   "file_extension": ".py",
   "mimetype": "text/x-python",
   "name": "python",
   "nbconvert_exporter": "python",
   "pygments_lexer": "ipython3",
   "version": "3.9.15"
  },
  "toc": {
   "base_numbering": 1,
   "nav_menu": {
    "height": "96px",
    "width": "244.8px"
   },
   "number_sections": true,
   "sideBar": true,
   "skip_h1_title": true,
   "title_cell": "Содержание",
   "title_sidebar": "Contents",
   "toc_cell": true,
   "toc_position": {
    "height": "calc(100% - 180px)",
    "left": "10px",
    "top": "150px",
    "width": "227.8px"
   },
   "toc_section_display": true,
   "toc_window_display": true
  }
 },
 "nbformat": 4,
 "nbformat_minor": 2
}
